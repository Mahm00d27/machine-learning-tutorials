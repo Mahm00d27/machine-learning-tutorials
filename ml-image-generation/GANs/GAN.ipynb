{
 "cells": [
  {
   "cell_type": "markdown",
   "metadata": {},
   "source": [
    "# Introduction to GANs with Tensorflow <a class=\"tocSkip\">\n",
    "\n",
    "[Tomas Beuzen](https://tomasbeuzen.github.io/) (May 2020)\n",
    "    \n",
    "---    "
   ]
  },
  {
   "cell_type": "markdown",
   "metadata": {},
   "source": [
    "# Introduction\n",
    "\n",
    "This notebook provides a very simple example for buidling a GAN with Tensorflow."
   ]
  },
  {
   "cell_type": "markdown",
   "metadata": {},
   "source": [
    "## Imports"
   ]
  },
  {
   "cell_type": "code",
   "execution_count": 2,
   "metadata": {},
   "outputs": [],
   "source": [
    "import pandas as pd\n",
    "import numpy as np\n",
    "import matplotlib.pyplot as plt\n",
    "import tensorflow as tf\n",
    "from tensorflow.keras import layers\n",
    "plt.style.use('ggplot')\n",
    "plt.rcParams.update({'font.size': 16,\n",
    "                     'axes.labelweight': 'bold',\n",
    "                     'figure.figsize': (8,6)})"
   ]
  },
  {
   "cell_type": "markdown",
   "metadata": {},
   "source": [
    "# A simple GAN"
   ]
  },
  {
   "cell_type": "markdown",
   "metadata": {},
   "source": [
    "## Data preparation\n",
    "\n",
    "- First we'll load in the mnist digits dataset"
   ]
  },
  {
   "cell_type": "code",
   "execution_count": 3,
   "metadata": {},
   "outputs": [],
   "source": [
    "(X_train, y_train), (X_test, y_test) = tf.keras.datasets.mnist.load_data()\n",
    "X_train = X_train[y_train == 0]  # we'll just work with 0's for now\n",
    "y_train = y_train[y_train == 0]"
   ]
  },
  {
   "cell_type": "code",
   "execution_count": 4,
   "metadata": {},
   "outputs": [
    {
     "data": {
      "text/plain": [
       "Text(0.5, 1.0, 'This is a 0')"
      ]
     },
     "execution_count": 4,
     "metadata": {},
     "output_type": "execute_result"
    },
    {
     "data": {
      "image/png": "[encoded data removed]",
      "text/plain": [
       "<Figure size 576x432 with 1 Axes>"
      ]
     },
     "metadata": {},
     "output_type": "display_data"
    }
   ],
   "source": [
    "n = 0\n",
    "plt.imshow(X_train[n])\n",
    "plt.title(f\"This is a {y_train[n]}\")"
   ]
  },
  {
   "cell_type": "markdown",
   "metadata": {},
   "source": [
    "## Define the models"
   ]
  },
  {
   "cell_type": "code",
   "execution_count": 5,
   "metadata": {},
   "outputs": [],
   "source": [
    "np.random.seed(42)\n",
    "tf.random.set_seed(42)\n",
    "INPUT_SIZE = 100"
   ]
  },
  {
   "cell_type": "markdown",
   "metadata": {},
   "source": [
    "### Generator\n",
    "\n",
    "- The generator accepts noise as an input and produce an image\n",
    "- The noise dimensions (also called the \"latent dimension\" can be anything - but is usually set to 100 in the GAN literature)\n",
    "- The goal is to train the generator to produce images that are so realistic, the discriminator cannot tell they are fake\n",
    "- We will define a very simple generator model here composed of a few dense layers"
   ]
  },
  {
   "cell_type": "code",
   "execution_count": 6,
   "metadata": {},
   "outputs": [],
   "source": [
    "generator = tf.keras.Sequential()\n",
    "generator.add(layers.Dense(100, activation=\"relu\", input_shape=[INPUT_SIZE]))\n",
    "generator.add(layers.Dense(150, activation='relu'))\n",
    "generator.add(layers.Dense(784, activation=\"sigmoid\")) # 28*28 = 784\n",
    "generator.add(layers.Reshape([28,28]))"
   ]
  },
  {
   "cell_type": "code",
   "execution_count": 7,
   "metadata": {},
   "outputs": [
    {
     "name": "stdout",
     "output_type": "stream",
     "text": [
      "Model: \"sequential\"\n",
      "_________________________________________________________________\n",
      "Layer (type)                 Output Shape              Param #   \n",
      "=================================================================\n",
      "dense (Dense)                (None, 100)               10100     \n",
      "_________________________________________________________________\n",
      "dense_1 (Dense)              (None, 150)               15150     \n",
      "_________________________________________________________________\n",
      "dense_2 (Dense)              (None, 784)               118384    \n",
      "_________________________________________________________________\n",
      "reshape (Reshape)            (None, 28, 28)            0         \n",
      "=================================================================\n",
      "Total params: 143,634\n",
      "Trainable params: 143,634\n",
      "Non-trainable params: 0\n",
      "_________________________________________________________________\n"
     ]
    }
   ],
   "source": [
    "generator.summary()"
   ]
  },
  {
   "cell_type": "markdown",
   "metadata": {},
   "source": [
    "### Discriminator"
   ]
  },
  {
   "cell_type": "markdown",
   "metadata": {},
   "source": [
    "- The discriminator's job is to classify an image as fake or real\n",
    "- It takes an image as input but only outputs a classification (0 or 1)"
   ]
  },
  {
   "cell_type": "code",
   "execution_count": 8,
   "metadata": {},
   "outputs": [],
   "source": [
    "discriminator = tf.keras.Sequential()\n",
    "discriminator.add(layers.Flatten(input_shape=[28,28]))\n",
    "discriminator.add(layers.Dense(150, activation='relu'))\n",
    "discriminator.add(layers.Dense(100, activation='relu'))\n",
    "discriminator.add(layers.Dense(1, activation=\"sigmoid\"))\n",
    "discriminator.compile(loss=\"binary_crossentropy\", optimizer=\"adam\")"
   ]
  },
  {
   "cell_type": "code",
   "execution_count": 9,
   "metadata": {},
   "outputs": [
    {
     "name": "stdout",
     "output_type": "stream",
     "text": [
      "Model: \"sequential_1\"\n",
      "_________________________________________________________________\n",
      "Layer (type)                 Output Shape              Param #   \n",
      "=================================================================\n",
      "flatten (Flatten)            (None, 784)               0         \n",
      "_________________________________________________________________\n",
      "dense_3 (Dense)              (None, 150)               117750    \n",
      "_________________________________________________________________\n",
      "dense_4 (Dense)              (None, 100)               15100     \n",
      "_________________________________________________________________\n",
      "dense_5 (Dense)              (None, 1)                 101       \n",
      "=================================================================\n",
      "Total params: 132,951\n",
      "Trainable params: 132,951\n",
      "Non-trainable params: 0\n",
      "_________________________________________________________________\n"
     ]
    }
   ],
   "source": [
    "discriminator.summary()"
   ]
  },
  {
   "cell_type": "markdown",
   "metadata": {},
   "source": [
    "### GAN"
   ]
  },
  {
   "cell_type": "markdown",
   "metadata": {},
   "source": [
    "- The GAN is composed of the generator and discriminator together"
   ]
  },
  {
   "cell_type": "code",
   "execution_count": 10,
   "metadata": {},
   "outputs": [],
   "source": [
    "GAN = tf.keras.Sequential([generator,\n",
    "                           discriminator])\n",
    "discriminator.trainable = False\n",
    "GAN.compile(loss=\"binary_crossentropy\", optimizer=\"adam\")"
   ]
  },
  {
   "cell_type": "markdown",
   "metadata": {},
   "source": [
    "## Train the model\n",
    "\n",
    "- Training will occur in two phases (per batch):\n",
    "    1. First we train the discriminator to distinguish between fake and real images. We will use the generator to generate some fake images (and give those a label of 0), and combine them with some real images (with a label of 1) to train the discriminator.\n",
    "    2. With the discriminator trained we now need to train the. In the second phase we generate fake images with the generator but this time give them a label of 1. As these images are passed through the GAN the loss will be very high, because the discriminator will be able to tell the generated images are fake (label 0), but we've given them a label of 1. Therefore, in training, the generator will learn (adjust its weights) to produce more realistic images to reduce this loss."
   ]
  },
  {
   "cell_type": "code",
   "execution_count": 11,
   "metadata": {},
   "outputs": [],
   "source": [
    "BUFFER_SIZE = len(X_train)\n",
    "BATCH_SIZE = 32\n",
    "EPOCHS = 20"
   ]
  },
  {
   "cell_type": "code",
   "execution_count": 12,
   "metadata": {},
   "outputs": [],
   "source": [
    "dataset = tf.data.Dataset.from_tensor_slices(X_train).shuffle(BUFFER_SIZE).batch(BATCH_SIZE,\n",
    "                                                                                 drop_remainder=True)"
   ]
  },
  {
   "cell_type": "code",
   "execution_count": 14,
   "metadata": {},
   "outputs": [
    {
     "name": "stdout",
     "output_type": "stream",
     "text": [
      "Currently on Epoch 1\n",
      "Currently on Epoch 2\n",
      "Currently on Epoch 3\n",
      "Currently on Epoch 4\n",
      "Currently on Epoch 5\n",
      "Currently on Epoch 6\n",
      "Currently on Epoch 7\n",
      "Currently on Epoch 8\n",
      "Currently on Epoch 9\n",
      "Currently on Epoch 10\n",
      "Currently on Epoch 11\n",
      "Currently on Epoch 12\n",
      "Currently on Epoch 13\n",
      "Currently on Epoch 14\n",
      "Currently on Epoch 15\n",
      "Currently on Epoch 16\n",
      "Currently on Epoch 17\n",
      "Currently on Epoch 18\n",
      "Currently on Epoch 19\n",
      "Currently on Epoch 20\n",
      "Currently on Epoch 21\n",
      "Currently on Epoch 22\n",
      "Currently on Epoch 23\n",
      "Currently on Epoch 24\n",
      "Currently on Epoch 25\n",
      "Currently on Epoch 26\n",
      "Currently on Epoch 27\n",
      "Currently on Epoch 28\n",
      "Currently on Epoch 29\n",
      "Currently on Epoch 30\n",
      "TRAINING COMPLETE\n"
     ]
    }
   ],
   "source": [
    "# For every epoch\n",
    "for epoch in range(EPOCHS):\n",
    "    print(f\"Currently on Epoch {epoch + 1}\")\n",
    "    \n",
    "    # For every batch in the dataset\n",
    "    for X_batch in dataset:\n",
    "            \n",
    "        # Train the discriminator\n",
    "        # We'll pass in some fake images and some real images to train the discriminator\n",
    "        noise = tf.random.normal(shape=[BATCH_SIZE, INPUT_SIZE])  # Create some noise\n",
    "        gen_images = generator(noise)  # Generate fake images based on noise input\n",
    "        X_fake_vs_real = tf.concat([gen_images,\n",
    "                                    tf.dtypes.cast(X_batch, tf.float32)],\n",
    "                                   axis=0)  # Concatenate generated and real images\n",
    "        y1 = tf.constant([[0.]] * BATCH_SIZE + [[1.]] * BATCH_SIZE)  # aargets are 0 for fakes, 1 for reals\n",
    "        discriminator.trainable = True\n",
    "        discriminator.train_on_batch(X_fake_vs_real,\n",
    "                                     y1)  # Train the discriminator on this batch\n",
    "        \n",
    "        # Train the generator\n",
    "        noise = tf.random.normal(shape=[BATCH_SIZE, INPUT_SIZE])  # Create some noise\n",
    "        y2 = tf.constant([[1.]] * BATCH_SIZE)  # We want discriminator to belive that fake images are real\n",
    "        discriminator.trainable = False\n",
    "        GAN.train_on_batch(noise, y2)  # pass noise to the GAN\n",
    "                                       # the generator will generate a fake image, but we label it with a 1\n",
    "                                       # at the begining of training, our trained discriminator will be able to \n",
    "                                       # tell the image is fake (label 0) so loss will be high.\n",
    "                                       # this forces the generator to adjust its weights (train) to produce\n",
    "                                       # more realistic images that fool the discriminator and reduce the loss.\n",
    "        \n",
    "print(\"TRAINING COMPLETE\")            "
   ]
  },
  {
   "cell_type": "markdown",
   "metadata": {},
   "source": [
    "## Test the model"
   ]
  },
  {
   "cell_type": "markdown",
   "metadata": {},
   "source": [
    "- We can test our model by generating some random noise and using the generator to generate an image!"
   ]
  },
  {
   "cell_type": "code",
   "execution_count": 16,
   "metadata": {},
   "outputs": [
    {
     "data": {
      "image/png": "[encoded data removed]",
      "text/plain": [
       "<Figure size 576x432 with 1 Axes>"
      ]
     },
     "metadata": {},
     "output_type": "display_data"
    }
   ],
   "source": [
    "noise = tf.random.normal(shape=[1, INPUT_SIZE])\n",
    "generated_image = generator(noise)\n",
    "plt.imshow(generated_image[0], cmap='gray');"
   ]
  },
  {
   "cell_type": "markdown",
   "metadata": {},
   "source": [
    "- GAN's are very sensitive models\n",
    "- We typically need the loss of the generator/discriminator/GAN to reduce at a similar rate, otherwise one part of the model will out-compete the other\n",
    "- One problem with vanilla GANs is that the generator can learn to produce just one type of image all of the time that it knows can fool the discriminator - this is called \"mode collapse\"\n",
    "- Try running the cell above multiple times, you might be getting the exact same image over and over!\n",
    "- We can prevent \"mode collapse\" by playing with the learning rates of the model or by using [convolutional GANs](convolutional_GAN.ipynb)"
   ]
  }
 ],
 "metadata": {
  "kernelspec": {
   "display_name": "Python [conda env:tf]",
   "language": "python",
   "name": "conda-env-tf-py"
  },
  "language_info": {
   "codemirror_mode": {
    "name": "ipython",
    "version": 3
   },
   "file_extension": ".py",
   "mimetype": "text/x-python",
   "name": "python",
   "nbconvert_exporter": "python",
   "pygments_lexer": "ipython3",
   "version": "3.6.10"
  },
  "toc": {
   "base_numbering": 1,
   "nav_menu": {},
   "number_sections": true,
   "sideBar": true,
   "skip_h1_title": false,
   "title_cell": "Table of Contents",
   "title_sidebar": "Contents",
   "toc_cell": false,
   "toc_position": {
    "height": "calc(100% - 180px)",
    "left": "10px",
    "top": "150px",
    "width": "288px"
   },
   "toc_section_display": true,
   "toc_window_display": true
  }
 },
 "nbformat": 4,
 "nbformat_minor": 4
}
