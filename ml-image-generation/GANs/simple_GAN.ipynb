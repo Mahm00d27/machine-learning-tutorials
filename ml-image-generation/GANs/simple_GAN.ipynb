{
 "cells": [
  {
   "cell_type": "markdown",
   "metadata": {},
   "source": [
    "# Introduction to GANs with Tensorflow <a class=\"tocSkip\">\n",
    "\n",
    "[Tomas Beuzen](https://tomasbeuzen.github.io/) (May 2020)\n",
    "    \n",
    "---    "
   ]
  },
  {
   "cell_type": "markdown",
   "metadata": {},
   "source": [
    "# Introduction\n",
    "\n",
    "This tutorial is based on the [Deep Convolutional Generative Adversarial Network by Tensorflow](https://www.tensorflow.org/tutorials/generative/dcgan)."
   ]
  },
  {
   "cell_type": "markdown",
   "metadata": {},
   "source": [
    "## Imports"
   ]
  },
  {
   "cell_type": "code",
   "execution_count": 1,
   "metadata": {},
   "outputs": [],
   "source": [
    "import pandas as pd\n",
    "import numpy as np\n",
    "import matplotlib.pyplot as plt\n",
    "import tensorflow as tf\n",
    "from tensorflow.keras import layers\n",
    "plt.style.use('ggplot')\n",
    "plt.rcParams.update({'font.size': 16,\n",
    "                     'axes.labelweight': 'bold',\n",
    "                     'figure.figsize': (8,6)})"
   ]
  },
  {
   "cell_type": "markdown",
   "metadata": {},
   "source": [
    "# A simple GAN"
   ]
  },
  {
   "cell_type": "markdown",
   "metadata": {},
   "source": [
    "## Data preparation"
   ]
  },
  {
   "cell_type": "code",
   "execution_count": 2,
   "metadata": {},
   "outputs": [],
   "source": [
    "(X_train, y_train), (X_test, y_test) = tf.keras.datasets.mnist.load_data()\n",
    "X_train = X_train[y_train == 0]  # we'll just work with 0's for now\n",
    "y_train = y_train[y_train == 0]"
   ]
  },
  {
   "cell_type": "code",
   "execution_count": 3,
   "metadata": {},
   "outputs": [
    {
     "data": {
      "text/plain": [
       "Text(0.5, 1.0, 'This is a 0')"
      ]
     },
     "execution_count": 3,
     "metadata": {},
     "output_type": "execute_result"
    },
    {
     "data": {
      "image/png": "[encoded data removed]",
      "text/plain": [
       "<Figure size 576x432 with 1 Axes>"
      ]
     },
     "metadata": {},
     "output_type": "display_data"
    }
   ],
   "source": [
    "n = 0\n",
    "plt.imshow(X_train[n])\n",
    "plt.title(f\"This is a {y_train[n]}\")"
   ]
  },
  {
   "cell_type": "markdown",
   "metadata": {},
   "source": [
    "## Define the models"
   ]
  },
  {
   "cell_type": "code",
   "execution_count": 4,
   "metadata": {},
   "outputs": [],
   "source": [
    "np.random.seed(42)\n",
    "tf.random.set_seed(42)\n",
    "INPUT_SIZE = 100"
   ]
  },
  {
   "cell_type": "markdown",
   "metadata": {},
   "source": [
    "### Generator"
   ]
  },
  {
   "cell_type": "code",
   "execution_count": 5,
   "metadata": {},
   "outputs": [],
   "source": [
    "generator = tf.keras.Sequential()\n",
    "generator.add(layers.Dense(100, activation=\"relu\", input_shape=[INPUT_SIZE]))\n",
    "generator.add(layers.Dense(150, activation='relu'))\n",
    "generator.add(layers.Dense(784, activation=\"sigmoid\")) # 28*28 = 784\n",
    "generator.add(layers.Reshape([28,28]))"
   ]
  },
  {
   "cell_type": "code",
   "execution_count": 6,
   "metadata": {},
   "outputs": [
    {
     "name": "stdout",
     "output_type": "stream",
     "text": [
      "Model: \"sequential\"\n",
      "_________________________________________________________________\n",
      "Layer (type)                 Output Shape              Param #   \n",
      "=================================================================\n",
      "dense (Dense)                (None, 100)               10100     \n",
      "_________________________________________________________________\n",
      "dense_1 (Dense)              (None, 150)               15150     \n",
      "_________________________________________________________________\n",
      "dense_2 (Dense)              (None, 784)               118384    \n",
      "_________________________________________________________________\n",
      "reshape (Reshape)            (None, 28, 28)            0         \n",
      "=================================================================\n",
      "Total params: 143,634\n",
      "Trainable params: 143,634\n",
      "Non-trainable params: 0\n",
      "_________________________________________________________________\n"
     ]
    }
   ],
   "source": [
    "generator.summary()"
   ]
  },
  {
   "cell_type": "markdown",
   "metadata": {},
   "source": [
    "### Discriminator"
   ]
  },
  {
   "cell_type": "code",
   "execution_count": 7,
   "metadata": {},
   "outputs": [],
   "source": [
    "discriminator = tf.keras.Sequential()\n",
    "discriminator.add(layers.Flatten(input_shape=[28,28]))\n",
    "discriminator.add(layers.Dense(150, activation='relu'))\n",
    "discriminator.add(layers.Dense(100, activation='relu'))\n",
    "discriminator.add(layers.Dense(1, activation=\"sigmoid\"))\n",
    "discriminator.compile(loss=\"binary_crossentropy\", optimizer=\"adam\")"
   ]
  },
  {
   "cell_type": "code",
   "execution_count": 8,
   "metadata": {},
   "outputs": [
    {
     "name": "stdout",
     "output_type": "stream",
     "text": [
      "Model: \"sequential_1\"\n",
      "_________________________________________________________________\n",
      "Layer (type)                 Output Shape              Param #   \n",
      "=================================================================\n",
      "flatten (Flatten)            (None, 784)               0         \n",
      "_________________________________________________________________\n",
      "dense_3 (Dense)              (None, 150)               117750    \n",
      "_________________________________________________________________\n",
      "dense_4 (Dense)              (None, 100)               15100     \n",
      "_________________________________________________________________\n",
      "dense_5 (Dense)              (None, 1)                 101       \n",
      "=================================================================\n",
      "Total params: 132,951\n",
      "Trainable params: 132,951\n",
      "Non-trainable params: 0\n",
      "_________________________________________________________________\n"
     ]
    }
   ],
   "source": [
    "discriminator.summary()"
   ]
  },
  {
   "cell_type": "markdown",
   "metadata": {},
   "source": [
    "### GAN"
   ]
  },
  {
   "cell_type": "code",
   "execution_count": 9,
   "metadata": {},
   "outputs": [],
   "source": [
    "GAN = tf.keras.Sequential([generator,\n",
    "                           discriminator])\n",
    "discriminator.trainable = False\n",
    "GAN.compile(loss=\"binary_crossentropy\", optimizer=\"adam\")"
   ]
  },
  {
   "cell_type": "markdown",
   "metadata": {},
   "source": [
    "## Train the model"
   ]
  },
  {
   "cell_type": "code",
   "execution_count": 10,
   "metadata": {},
   "outputs": [],
   "source": [
    "BUFFER_SIZE = len(X_train)\n",
    "BATCH_SIZE = 32\n",
    "EPOCHS = 30"
   ]
  },
  {
   "cell_type": "code",
   "execution_count": 11,
   "metadata": {},
   "outputs": [],
   "source": [
    "dataset = tf.data.Dataset.from_tensor_slices(X_train).shuffle(BUFFER_SIZE).batch(BATCH_SIZE, drop_remainder=True)"
   ]
  },
  {
   "cell_type": "code",
   "execution_count": 13,
   "metadata": {},
   "outputs": [
    {
     "name": "stdout",
     "output_type": "stream",
     "text": [
      "Currently on Epoch 1\n",
      "\tCurrently on batch number 100 of 185\n",
      "Currently on Epoch 2\n",
      "\tCurrently on batch number 100 of 185\n",
      "Currently on Epoch 3\n",
      "\tCurrently on batch number 100 of 185\n",
      "Currently on Epoch 4\n",
      "\tCurrently on batch number 100 of 185\n",
      "Currently on Epoch 5\n",
      "\tCurrently on batch number 100 of 185\n",
      "Currently on Epoch 6\n",
      "\tCurrently on batch number 100 of 185\n",
      "Currently on Epoch 7\n",
      "\tCurrently on batch number 100 of 185\n",
      "Currently on Epoch 8\n",
      "\tCurrently on batch number 100 of 185\n",
      "Currently on Epoch 9\n",
      "\tCurrently on batch number 100 of 185\n",
      "Currently on Epoch 10\n",
      "\tCurrently on batch number 100 of 185\n",
      "Currently on Epoch 11\n",
      "\tCurrently on batch number 100 of 185\n",
      "Currently on Epoch 12\n",
      "\tCurrently on batch number 100 of 185\n",
      "Currently on Epoch 13\n",
      "\tCurrently on batch number 100 of 185\n",
      "Currently on Epoch 14\n",
      "\tCurrently on batch number 100 of 185\n",
      "Currently on Epoch 15\n",
      "\tCurrently on batch number 100 of 185\n",
      "Currently on Epoch 16\n",
      "\tCurrently on batch number 100 of 185\n",
      "Currently on Epoch 17\n",
      "\tCurrently on batch number 100 of 185\n",
      "Currently on Epoch 18\n",
      "\tCurrently on batch number 100 of 185\n",
      "Currently on Epoch 19\n",
      "\tCurrently on batch number 100 of 185\n",
      "Currently on Epoch 20\n",
      "\tCurrently on batch number 100 of 185\n",
      "Currently on Epoch 21\n",
      "\tCurrently on batch number 100 of 185\n",
      "Currently on Epoch 22\n",
      "\tCurrently on batch number 100 of 185\n",
      "Currently on Epoch 23\n",
      "\tCurrently on batch number 100 of 185\n",
      "Currently on Epoch 24\n",
      "\tCurrently on batch number 100 of 185\n",
      "Currently on Epoch 25\n",
      "\tCurrently on batch number 100 of 185\n",
      "Currently on Epoch 26\n",
      "\tCurrently on batch number 100 of 185\n",
      "Currently on Epoch 27\n",
      "\tCurrently on batch number 100 of 185\n",
      "Currently on Epoch 28\n",
      "\tCurrently on batch number 100 of 185\n",
      "Currently on Epoch 29\n",
      "\tCurrently on batch number 100 of 185\n",
      "Currently on Epoch 30\n",
      "\tCurrently on batch number 100 of 185\n",
      "TRAINING COMPLETE\n"
     ]
    }
   ],
   "source": [
    "# For every epoch\n",
    "for epoch in range(EPOCHS):\n",
    "    print(f\"Currently on Epoch {epoch + 1}\")\n",
    "    i = 0\n",
    "    \n",
    "    # For every batch in the dataset\n",
    "    for X_batch in dataset:\n",
    "        i = i + 1\n",
    "        if i % 100 == 0:\n",
    "            print(f\"\\tCurrently on batch number {i} of {len(X_train) // BATCH_SIZE}\")\n",
    "            \n",
    "        # Train the discriminator\n",
    "        noise = tf.random.normal(shape=[BATCH_SIZE, INPUT_SIZE])  # Create some noise\n",
    "        gen_images = generator(noise)  # Generate numbers based just on noise input\n",
    "        X_fake_vs_real = tf.concat([gen_images,\n",
    "                                    tf.dtypes.cast(X_batch, tf.float32)],\n",
    "                                   axis=0)  # Concatenate Generated Images against the Real Ones\n",
    "        y1 = tf.constant([[0.]] * BATCH_SIZE + [[1.]] * BATCH_SIZE)  # Targets set to 0 for fakes, 1 for reals\n",
    "        discriminator.trainable = True\n",
    "        discriminator.train_on_batch(X_fake_vs_real, y1)  # Train the discriminator on this batch\n",
    "        \n",
    "        # Train the generator\n",
    "        noise = tf.random.normal(shape=[BATCH_SIZE, INPUT_SIZE])  # Create some noise\n",
    "        y2 = tf.constant([[1.]] * BATCH_SIZE)  # We want discriminator to belive that fake images are real\n",
    "        discriminator.trainable = False\n",
    "        GAN.train_on_batch(noise, y2)\n",
    "        \n",
    "print(\"TRAINING COMPLETE\")            "
   ]
  },
  {
   "cell_type": "markdown",
   "metadata": {},
   "source": [
    "## Test the model"
   ]
  },
  {
   "cell_type": "code",
   "execution_count": 19,
   "metadata": {},
   "outputs": [
    {
     "data": {
      "image/png": "[encoded data removed]",
      "text/plain": [
       "<Figure size 576x432 with 1 Axes>"
      ]
     },
     "metadata": {},
     "output_type": "display_data"
    }
   ],
   "source": [
    "noise = tf.random.normal(shape=[1, INPUT_SIZE])\n",
    "generated_image = generator(noise)\n",
    "plt.imshow(generated_image[0], cmap='gray');"
   ]
  },
  {
   "cell_type": "markdown",
   "metadata": {},
   "source": [
    "# A conditional GAN"
   ]
  },
  {
   "cell_type": "code",
   "execution_count": null,
   "metadata": {},
   "outputs": [],
   "source": [
    "https://wiseodd.github.io/techblog/2016/12/24/conditional-gan-tensorflow/"
   ]
  }
 ],
 "metadata": {
  "kernelspec": {
   "display_name": "Python [conda env:tf]",
   "language": "python",
   "name": "conda-env-tf-py"
  },
  "language_info": {
   "codemirror_mode": {
    "name": "ipython",
    "version": 3
   },
   "file_extension": ".py",
   "mimetype": "text/x-python",
   "name": "python",
   "nbconvert_exporter": "python",
   "pygments_lexer": "ipython3",
   "version": "3.6.10"
  },
  "toc": {
   "base_numbering": 1,
   "nav_menu": {},
   "number_sections": true,
   "sideBar": true,
   "skip_h1_title": false,
   "title_cell": "Table of Contents",
   "title_sidebar": "Contents",
   "toc_cell": false,
   "toc_position": {
    "height": "calc(100% - 180px)",
    "left": "10px",
    "top": "150px",
    "width": "288px"
   },
   "toc_section_display": true,
   "toc_window_display": true
  }
 },
 "nbformat": 4,
 "nbformat_minor": 4
}
