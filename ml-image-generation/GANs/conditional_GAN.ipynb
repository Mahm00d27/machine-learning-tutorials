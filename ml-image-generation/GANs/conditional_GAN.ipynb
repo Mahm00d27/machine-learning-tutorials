{
 "cells": [
  {
   "cell_type": "markdown",
   "metadata": {},
   "source": [
    "# A conditional GAN with Tensorflow <a class=\"tocSkip\">\n",
    "\n",
    "[Tomas Beuzen](https://tomasbeuzen.github.io/) (May 2020)\n",
    "    \n",
    "---    "
   ]
  },
  {
   "cell_type": "markdown",
   "metadata": {},
   "source": [
    "# Introduction\n",
    "\n",
    "This notebook walks through a simple implementation of a conditional GAN on the mnist digits dataset."
   ]
  },
  {
   "cell_type": "markdown",
   "metadata": {},
   "source": [
    "## Imports"
   ]
  },
  {
   "cell_type": "code",
   "execution_count": 1,
   "metadata": {},
   "outputs": [],
   "source": [
    "import pandas as pd\n",
    "import numpy as np\n",
    "import matplotlib.pyplot as plt\n",
    "import tensorflow as tf\n",
    "from tensorflow.keras import layers\n",
    "plt.style.use('ggplot')\n",
    "plt.rcParams.update({'font.size': 16,\n",
    "                     'axes.labelweight': 'bold',\n",
    "                     'figure.figsize': (8,6)})"
   ]
  },
  {
   "cell_type": "markdown",
   "metadata": {},
   "source": [
    "# A conditional GAN\n",
    "\n",
    "In the [GAN notebook](GAN.ipynb), we were only looking at a single class (the digit 0). We could have included all of the data if we wanted to and then generated random digits from the latent space, but it would probably be more helpful if we could choose what digits we wanted to generate - enter, conditional GANs.\n",
    "\n",
    "The code to implement a conditional GAN is a little more involved. I'm going to leverage an example from [machinelearningmastery.com](https://machinelearningmastery.com/how-to-develop-a-conditional-generative-adversarial-network-from-scratch/) for the implementation below. The idea is to include the class labels as inputs to the model now."
   ]
  },
  {
   "cell_type": "markdown",
   "metadata": {},
   "source": [
    "## Models"
   ]
  },
  {
   "cell_type": "markdown",
   "metadata": {},
   "source": [
    "### Generator"
   ]
  },
  {
   "cell_type": "code",
   "execution_count": 3,
   "metadata": {},
   "outputs": [],
   "source": [
    "# define the standalone generator model\n",
    "def define_generator(latent_dim, n_classes=10):\n",
    "    # label input\n",
    "    in_label = layers.Input(shape=(1,))\n",
    "    # embedding for categorical input\n",
    "    li = layers.Embedding(n_classes, 50)(in_label)\n",
    "    # linear multiplication\n",
    "    n_nodes = 7 * 7\n",
    "    li = layers.Dense(n_nodes)(li)\n",
    "    # reshape to additional channel\n",
    "    li = layers.Reshape((7, 7, 1))(li)\n",
    "    # image generator input\n",
    "    in_lat = layers.Input(shape=(latent_dim,))\n",
    "    # foundation for 7x7 image\n",
    "    n_nodes = 128 * 7 * 7\n",
    "    gen = layers.Dense(n_nodes)(in_lat)\n",
    "    gen = layers.LeakyReLU(alpha=0.2)(gen)\n",
    "    gen = layers.Reshape((7, 7, 128))(gen)\n",
    "    # merge image gen and label input\n",
    "    merge = layers.Concatenate()([gen, li])\n",
    "    # upsample to 14x14\n",
    "    gen = layers.Conv2DTranspose(128, (4,4), strides=(2,2), padding='same')(merge)\n",
    "    gen = layers.LeakyReLU(alpha=0.2)(gen)\n",
    "    # upsample to 28x28\n",
    "    gen = layers.Conv2DTranspose(128, (4,4), strides=(2,2), padding='same')(gen)\n",
    "    gen = layers.LeakyReLU(alpha=0.2)(gen)\n",
    "    # output\n",
    "    out_layer = layers.Conv2D(1, (7,7), activation='tanh', padding='same')(gen)\n",
    "    # define model\n",
    "    model = tf.keras.models.Model([in_lat, in_label], out_layer)\n",
    "    return model"
   ]
  },
  {
   "cell_type": "markdown",
   "metadata": {},
   "source": [
    "### Discriminator"
   ]
  },
  {
   "cell_type": "code",
   "execution_count": 4,
   "metadata": {},
   "outputs": [],
   "source": [
    "# define the standalone discriminator model\n",
    "def define_discriminator(in_shape=(28,28,1), n_classes=10):\n",
    "    # label input\n",
    "    in_label = layers.Input(shape=(1,))\n",
    "    # embedding for categorical input\n",
    "    li = layers.Embedding(n_classes, 50)(in_label)\n",
    "    # scale up to image dimensions with linear activation\n",
    "    n_nodes = in_shape[0] * in_shape[1]\n",
    "    li = layers.Dense(n_nodes)(li)\n",
    "    # reshape to additional channel\n",
    "    li = layers.Reshape((in_shape[0], in_shape[1], 1))(li)\n",
    "    # image input\n",
    "    in_image = layers.Input(shape=in_shape)\n",
    "    # concat label as a channel\n",
    "    merge = layers.Concatenate()([in_image, li])\n",
    "    # downsample\n",
    "    fe = layers.Conv2D(128, (3,3), strides=(2,2), padding='same')(merge)\n",
    "    fe = layers.LeakyReLU(alpha=0.2)(fe)\n",
    "    # downsample\n",
    "    fe = layers.Conv2D(128, (3,3), strides=(2,2), padding='same')(fe)\n",
    "    fe = layers.LeakyReLU(alpha=0.2)(fe)\n",
    "    # flatten feature maps\n",
    "    fe = layers.Flatten()(fe)\n",
    "    # dropout\n",
    "    fe = layers.Dropout(0.4)(fe)\n",
    "    # output\n",
    "    out_layer = layers.Dense(1, activation='sigmoid')(fe)\n",
    "    # define model\n",
    "    model = tf.keras.models.Model([in_image, in_label], out_layer)\n",
    "    # compile model\n",
    "    opt = tf.keras.optimizers.Adam(lr=0.0001, beta_1=0.5)\n",
    "    model.compile(loss='binary_crossentropy', optimizer=opt, metrics=['accuracy'])\n",
    "    return model"
   ]
  },
  {
   "cell_type": "markdown",
   "metadata": {},
   "source": [
    "### GAN"
   ]
  },
  {
   "cell_type": "code",
   "execution_count": 5,
   "metadata": {},
   "outputs": [],
   "source": [
    "# define the combined generator and discriminator model, for updating the generator\n",
    "def define_gan(g_model, d_model):\n",
    "    # make weights in the discriminator not trainable\n",
    "    d_model.trainable = False\n",
    "    # get noise and label inputs from generator model\n",
    "    gen_noise, gen_label = g_model.input\n",
    "    # get image output from the generator model\n",
    "    gen_output = g_model.output\n",
    "    # connect image output and label input from generator as inputs to discriminator\n",
    "    gan_output = d_model([gen_output, gen_label])\n",
    "    # define gan model as taking noise and label and outputting a classification\n",
    "    model = tf.keras.models.Model([gen_noise, gen_label], gan_output)\n",
    "    # compile model\n",
    "    opt = tf.keras.optimizers.Adam(lr=0.0001, beta_1=0.5)\n",
    "    model.compile(loss='binary_crossentropy', optimizer=opt)\n",
    "    return model"
   ]
  },
  {
   "cell_type": "markdown",
   "metadata": {},
   "source": [
    "## Train the model"
   ]
  },
  {
   "cell_type": "code",
   "execution_count": 6,
   "metadata": {},
   "outputs": [],
   "source": [
    "# size of the latent space (usually 100)\n",
    "latent_dim = 100"
   ]
  },
  {
   "cell_type": "code",
   "execution_count": 8,
   "metadata": {},
   "outputs": [],
   "source": [
    "# load fashion mnist images\n",
    "def load_real_samples():\n",
    "    # load dataset\n",
    "    (trainX, trainy), (_, _) = tf.keras.datasets.mnist.load_data()\n",
    "    # expand to 3d, e.g. add channels\n",
    "    X = tf.expand_dims(trainX, axis=-1)\n",
    "    # convert from ints to floats\n",
    "    X = tf.cast(X, tf.float32)\n",
    "    # scale from [0,255] to [-1,1]\n",
    "    X = (X - 127.5) / 127.5\n",
    "    return [X, trainy]\n",
    " \n",
    "# # select real samples\n",
    "def generate_real_samples(dataset, n_samples):\n",
    "    # split into images and labels\n",
    "    images, labels = dataset\n",
    "    # choose random instances\n",
    "    ix = np.random.randint(0, images.shape[0], n_samples)\n",
    "    # select images and labels\n",
    "    X, labels = images.numpy()[ix], labels[ix]\n",
    "    # generate class labels\n",
    "    y = tf.ones((n_samples, 1))\n",
    "    return [X, labels], y\n",
    " \n",
    "# generate points in latent space as input for the generator\n",
    "def generate_latent_points(latent_dim, n_samples, n_classes=10):\n",
    "    # generate points in the latent space\n",
    "    x_input = np.random.randn(latent_dim * n_samples)\n",
    "    # reshape into a batch of inputs for the network\n",
    "    z_input = x_input.reshape(n_samples, latent_dim)\n",
    "    # generate labels\n",
    "    labels = np.random.randint(0, n_classes, n_samples)\n",
    "    return [z_input, labels]\n",
    " \n",
    "# use the generator to generate n fake examples, with class labels\n",
    "def generate_fake_samples(generator, latent_dim, n_samples):\n",
    "    # generate points in latent space\n",
    "    z_input, labels_input = generate_latent_points(latent_dim, n_samples)\n",
    "    # predict outputs\n",
    "    images = generator.predict([z_input, labels_input])\n",
    "    # create class labels\n",
    "    y = tf.zeros((n_samples, 1))\n",
    "    return [images, labels_input], y\n",
    " \n",
    "# train the generator and discriminator\n",
    "def train(g_model, d_model, gan_model, dataset, latent_dim, n_epochs=100, n_batch=128):\n",
    "    bat_per_epo = int(dataset[0].shape[0] / n_batch)\n",
    "    half_batch = int(n_batch / 2)\n",
    "    # manually enumerate epochs\n",
    "    for i in range(n_epochs):\n",
    "        print(f\"On epoch {i + 1}\")\n",
    "        # enumerate batches over the training set\n",
    "        for j in range(bat_per_epo):\n",
    "            # get randomly selected 'real' samples\n",
    "            [X_real, labels_real], y_real = generate_real_samples(dataset, half_batch)\n",
    "            # update discriminator model weights\n",
    "            d_loss1, _ = d_model.train_on_batch([X_real, labels_real], y_real)\n",
    "            # generate 'fake' examples\n",
    "            [X_fake, labels], y_fake = generate_fake_samples(g_model, latent_dim, half_batch)\n",
    "            # update discriminator model weights\n",
    "            d_loss2, _ = d_model.train_on_batch([X_fake, labels], y_fake)\n",
    "            # prepare points in latent space as input for the generator\n",
    "            [z_input, labels_input] = generate_latent_points(latent_dim, n_batch)\n",
    "            # create inverted labels for the fake samples\n",
    "            y_gan = tf.ones((n_batch, 1))\n",
    "            # update the generator via the discriminator's error\n",
    "            g_loss = gan_model.train_on_batch([z_input, labels_input], y_gan)\n",
    "            # summarize loss on this batch\n",
    "            if j % 100 == 0:\n",
    "                print('>%d, %d/%d, d1=%.3f, d2=%.3f g=%.3f' %\n",
    "                    (i+1, j+1, bat_per_epo, d_loss1, d_loss2, g_loss))\n",
    "    # save the generator model\n",
    "#     g_model.save('saved_models/GAN_cgan_generator.h5')"
   ]
  },
  {
   "cell_type": "code",
   "execution_count": 9,
   "metadata": {},
   "outputs": [
    {
     "name": "stdout",
     "output_type": "stream",
     "text": [
      "WARNING:tensorflow:No training configuration found in the save file, so the model was *not* compiled. Compile it manually.\n"
     ]
    }
   ],
   "source": [
    "# create the discriminator\n",
    "d_model = define_discriminator()\n",
    "# create the generator\n",
    "g_model = define_generator(latent_dim)\n",
    "# create the gan\n",
    "gan_model = define_gan(g_model, d_model)\n",
    "# load image data\n",
    "dataset = load_real_samples()\n",
    "# train model\n",
    "# train(g_model, d_model, gan_model, dataset, latent_dim, n_epochs=3)\n",
    "# load model\n",
    "model = tf.keras.models.load_model('saved_models/GAN_cgan_generator.h5')"
   ]
  },
  {
   "cell_type": "code",
   "execution_count": 10,
   "metadata": {},
   "outputs": [
    {
     "data": {
      "image/png": "[encoded data removed]",
      "text/plain": [
       "<Figure size 576x432 with 100 Axes>"
      ]
     },
     "metadata": {},
     "output_type": "display_data"
    }
   ],
   "source": [
    "# generate points in latent space as input for the generator\n",
    "def generate_latent_points(latent_dim, n_samples, n_classes=10):\n",
    "    # generate points in the latent space\n",
    "    x_input = np.random.randn(latent_dim * n_samples)\n",
    "    # reshape into a batch of inputs for the network\n",
    "    z_input = x_input.reshape(n_samples, latent_dim)\n",
    "    # generate labels\n",
    "    labels = np.random.randint(0, n_classes, n_samples)\n",
    "    return [z_input, labels]\n",
    " \n",
    "# create and save a plot of generated images\n",
    "def create_plot(examples, n):\n",
    "    # plot images\n",
    "    for i in range(n * n):\n",
    "        # define subplot\n",
    "        plt.subplot(n, n, 1 + i)\n",
    "        # turn off axis\n",
    "        plt.axis('off')\n",
    "        # plot raw pixel data\n",
    "        plt.imshow(examples[i, :, :, 0], cmap='gray_r')\n",
    "    plt.show()\n",
    "\n",
    "# generate images\n",
    "latent_points, labels = generate_latent_points(100, 100)\n",
    "# specify labels\n",
    "labels = np.asarray([x for _ in range(10) for x in range(10)])\n",
    "# generate images\n",
    "X  = model.predict([latent_points, labels])\n",
    "# scale from [-1,1] to [0,1]\n",
    "X = (X + 1) / 2.0\n",
    "# plot the result\n",
    "create_plot(X, 10)"
   ]
  }
 ],
 "metadata": {
  "kernelspec": {
   "display_name": "Python [conda env:tf]",
   "language": "python",
   "name": "conda-env-tf-py"
  },
  "language_info": {
   "codemirror_mode": {
    "name": "ipython",
    "version": 3
   },
   "file_extension": ".py",
   "mimetype": "text/x-python",
   "name": "python",
   "nbconvert_exporter": "python",
   "pygments_lexer": "ipython3",
   "version": "3.6.10"
  },
  "toc": {
   "base_numbering": 1,
   "nav_menu": {},
   "number_sections": true,
   "sideBar": true,
   "skip_h1_title": false,
   "title_cell": "Table of Contents",
   "title_sidebar": "Contents",
   "toc_cell": false,
   "toc_position": {
    "height": "calc(100% - 180px)",
    "left": "10px",
    "top": "150px",
    "width": "288px"
   },
   "toc_section_display": true,
   "toc_window_display": true
  }
 },
 "nbformat": 4,
 "nbformat_minor": 4
}
