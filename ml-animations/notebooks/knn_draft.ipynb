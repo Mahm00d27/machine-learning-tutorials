{
 "cells": [
  {
   "cell_type": "markdown",
   "metadata": {},
   "source": [
    "#### Imports"
   ]
  },
  {
   "cell_type": "code",
   "execution_count": 1,
   "metadata": {},
   "outputs": [],
   "source": [
    "import numpy as np\n",
    "from scipy.stats import mode\n",
    "import matplotlib.pyplot as plt\n",
    "import matplotlib.animation as animation\n",
    "from IPython.display import HTML, Image\n",
    "plt.style.use('ggplot')\n",
    "params = {'legend.fontsize': '18',\n",
    "          'axes.labelsize': '20',\n",
    "          'axes.labelweight': 'bold',\n",
    "          'axes.titlesize':'20',\n",
    "          'xtick.labelsize':'18',\n",
    "          'ytick.labelsize':'18'}\n",
    "plt.rcParams.update(params)"
   ]
  },
  {
   "cell_type": "markdown",
   "metadata": {},
   "source": [
    "#### Functions"
   ]
  },
  {
   "cell_type": "code",
   "execution_count": 2,
   "metadata": {},
   "outputs": [],
   "source": [
    "def closest_node(node, nodes, n=1):\n",
    "    \"\"\"\n",
    "    Find the closest point in a list to a query point.\n",
    "\n",
    "    Parameters\n",
    "    ----------\n",
    "    node : array\n",
    "        query point\n",
    "    nodes: array\n",
    "        array of points to compare to\n",
    "    n: int\n",
    "        return n closest pairs\n",
    "\n",
    "    Returns\n",
    "    -------\n",
    "    int\n",
    "        The index of the closest point in the list\n",
    "    \"\"\"\n",
    "    nodes = np.asarray(nodes)\n",
    "    dist = np.sum((nodes - node)**2, axis=1)\n",
    "    \n",
    "    return np.argsort(dist)[:n]\n",
    "\n",
    "def mk_fig():\n",
    "    \"\"\"\n",
    "    Convenience function to plot figure canvas\n",
    "\n",
    "    Returns\n",
    "    -------\n",
    "    fig, axes\n",
    "        Figure and axes objects\n",
    "    \"\"\"\n",
    "    fig, axes = plt.subplots(1, 1, figsize=(7, 7))\n",
    "    axes.set_xlim(-1, 11)\n",
    "    axes.set_ylim(-1, 11)\n",
    "    axes.set_xlabel('X1')\n",
    "    axes.set_ylabel('X2')\n",
    "\n",
    "    return fig, axes"
   ]
  },
  {
   "cell_type": "markdown",
   "metadata": {},
   "source": [
    "#### Data"
   ]
  },
  {
   "cell_type": "code",
   "execution_count": 3,
   "metadata": {},
   "outputs": [],
   "source": [
    "np.random.seed(11)\n",
    "X = np.array([np.random.randint(0, 10, 9),\n",
    "              np.random.randint(0, 10, 9)]).T\n",
    "y = np.random.randint(0, 2, 9)\n",
    "xq = np.array([6, 3])  # query point"
   ]
  },
  {
   "cell_type": "markdown",
   "metadata": {},
   "source": [
    "#### Create and save animations"
   ]
  },
  {
   "cell_type": "code",
   "execution_count": 4,
   "metadata": {},
   "outputs": [],
   "source": [
    "fig, axes = mk_fig()\n",
    "mask = y == 0\n",
    "colors = ['#E24A33', '#348ABD']\n",
    "\n",
    "def init():\n",
    "    axes.scatter(X[mask, 0], X[mask, 1], s=100, c='#E24A33', label='Class 0', zorder=2)\n",
    "    axes.scatter(X[~mask, 0], X[~mask, 1], s=100, c='#348ABD', label='Class 1', zorder=2)\n",
    "    axes.scatter(xq[0], xq[1], s=200, facecolor='None', edgecolor='k', lw=2, label='Unknown', zorder=2)\n",
    "    axes.legend(facecolor='#F0F0F0', framealpha=1)\n",
    "\n",
    "def animate(i):\n",
    "    if i == 0:\n",
    "        axes.scatter(xq[0], xq[1], s=200, facecolor='None', edgecolor='k', lw=2, label='Unknown', zorder=2)\n",
    "    if i == 1:\n",
    "        k = closest_node(xq, X, i)\n",
    "        axes.plot([xq[0], X[k,0]],\n",
    "                  [xq[1], X[k,1]],\n",
    "                  'k-', zorder=1)\n",
    "        axes.scatter(xq[0], xq[1]+0.01, s=200, facecolor=colors[y[k[0]]], edgecolor='k', lw=2, zorder=2)\n",
    "    elif i % 2 == 1:\n",
    "        k = closest_node(xq, X, i)\n",
    "        axes.plot([np.repeat(xq[0], 2), X[k[-2:],0]],\n",
    "                  [np.repeat(xq[1], 2), X[k[-2:],1]],\n",
    "                  'k-', zorder=1)\n",
    "        if sum(y[k] == 0) > sum(y[k] == 1):\n",
    "            axes.scatter(xq[0], xq[1]+0.01, s=200, facecolor=colors[0], edgecolor='k', lw=2, zorder=2)\n",
    "        elif sum(y[k] == 1) > sum(y[k] == 0):\n",
    "            axes.scatter(xq[0], xq[1]+0.01, s=200, facecolor=colors[1], edgecolor='k', lw=2, zorder=2)\n",
    "        else:  # if equal counts, set to closest point's color\n",
    "            axes.scatter(xq[0], xq[1]+0.01, s=200, facecolor=colors[y[k[0]]], edgecolor='k', lw=2, zorder=2)\n",
    "            \n",
    "plt.close(fig)\n",
    "ani = animation.FuncAnimation(fig,\n",
    "                              animate,\n",
    "                              init_func=init,\n",
    "                              frames=10,\n",
    "                              interval=600)\n",
    "ani.save('../gif/knn/knn.gif', writer='imagemagick', fps=1, dpi=75)\n",
    "# HTML(ani.to_jshtml())"
   ]
  },
  {
   "cell_type": "markdown",
   "metadata": {},
   "source": [
    "#### View animations"
   ]
  },
  {
   "cell_type": "code",
   "execution_count": null,
   "metadata": {},
   "outputs": [],
   "source": [
    "Image(url='../gif/knn/knn.gif')"
   ]
  }
 ],
 "metadata": {
  "kernelspec": {
   "display_name": "Python 3",
   "language": "python",
   "name": "python3"
  },
  "language_info": {
   "codemirror_mode": {
    "name": "ipython",
    "version": 3
   },
   "file_extension": ".py",
   "mimetype": "text/x-python",
   "name": "python",
   "nbconvert_exporter": "python",
   "pygments_lexer": "ipython3",
   "version": "3.7.4"
  }
 },
 "nbformat": 4,
 "nbformat_minor": 2
}
