{
 "cells": [
  {
   "cell_type": "markdown",
   "metadata": {},
   "source": [
    "#### Imports"
   ]
  },
  {
   "cell_type": "code",
   "execution_count": 1,
   "metadata": {},
   "outputs": [],
   "source": [
    "import numpy as np\n",
    "from tensorflow.keras.layers import Conv1D\n",
    "from tensorflow.keras.models import Sequential\n",
    "from tensorflow.random import set_seed\n",
    "import matplotlib.pyplot as plt\n",
    "import matplotlib.patches as patches\n",
    "import matplotlib.animation as animation\n",
    "from IPython.display import HTML, Image\n",
    "plt.style.use('ggplot')\n",
    "params = {'legend.fontsize': '18',\n",
    "          'axes.labelsize': '20',\n",
    "          'axes.labelweight': 'bold',\n",
    "          'axes.titlesize':'20',\n",
    "          'xtick.labelsize':'18',\n",
    "          'ytick.labelsize':'18'}\n",
    "plt.rcParams.update(params)"
   ]
  },
  {
   "cell_type": "markdown",
   "metadata": {},
   "source": [
    "#### Functions"
   ]
  },
  {
   "cell_type": "code",
   "execution_count": 2,
   "metadata": {},
   "outputs": [],
   "source": [
    "def mk_fig():\n",
    "    \"\"\"\n",
    "    Convenience function to plot figure canvas\n",
    "\n",
    "    Returns\n",
    "    -------\n",
    "    fig, axes\n",
    "        Figure and axes objects\n",
    "    \"\"\"\n",
    "    fig, axes = plt.subplots(1, 2, figsize=(14, 4))\n",
    "    axes[0].set_xlim(-2, 22)\n",
    "    axes[0].set_ylim(-1, 1)\n",
    "    axes[0].set_xlabel('x')\n",
    "    axes[0].set_ylabel('y')\n",
    "    axes[0].set_title('Input sequence')\n",
    "    axes[1].set_xlim(-2, 22)\n",
    "    axes[1].set_ylim(-1, 1)\n",
    "    axes[1].set_xlabel('x')\n",
    "    axes[1].set_ylabel('y')\n",
    "    axes[1].set_title('Conv1D layer output')\n",
    "    \n",
    "    return fig, axes"
   ]
  },
  {
   "cell_type": "markdown",
   "metadata": {},
   "source": [
    "#### Data"
   ]
  },
  {
   "cell_type": "code",
   "execution_count": 3,
   "metadata": {},
   "outputs": [],
   "source": [
    "np.random.seed(100)\n",
    "n = 21\n",
    "x = (np.sin(np.linspace(0, 3, n)) + np.random.randn(n)*0.1) * 0.8"
   ]
  },
  {
   "cell_type": "markdown",
   "metadata": {},
   "source": [
    "#### Model"
   ]
  },
  {
   "cell_type": "code",
   "execution_count": 4,
   "metadata": {},
   "outputs": [
    {
     "name": "stdout",
     "output_type": "stream",
     "text": [
      "Model: \"conv1d_model\"\n",
      "_________________________________________________________________\n",
      "Layer (type)                 Output Shape              Param #   \n",
      "=================================================================\n",
      "conv1d (Conv1D)              (None, 21, 3)             12        \n",
      "=================================================================\n",
      "Total params: 12\n",
      "Trainable params: 12\n",
      "Non-trainable params: 0\n",
      "_________________________________________________________________\n"
     ]
    }
   ],
   "source": [
    "set_seed(100)\n",
    "model = Sequential(name=\"conv1d_model\")\n",
    "filters = 3\n",
    "kernel_size = 3\n",
    "model.add(Conv1D(filters, kernel_size=kernel_size, input_shape=(n, 1), padding='same'))\n",
    "x_out = model.predict(x[None,:,None])[0]\n",
    "model.summary()"
   ]
  },
  {
   "cell_type": "markdown",
   "metadata": {},
   "source": [
    "#### Create and save animations"
   ]
  },
  {
   "cell_type": "code",
   "execution_count": 11,
   "metadata": {},
   "outputs": [],
   "source": [
    "fig, axes = mk_fig()\n",
    "ec = [(0.89, 0.29, 0.2, 1), (0.2, 0.54, 0.74, 1), (0.60, 0.56, 0.84, 1)]\n",
    "fc = [(0.89, 0.29, 0.2, 0.2), (0.2, 0.54, 0.74, 0.2), (0.60, 0.56, 0.84, 0.2)]\n",
    "\n",
    "def init():\n",
    "    axes[0].plot(x, '-k', marker='.', ms=13)\n",
    "    axes[0].plot([-1, 0], [0, x[0]], 'k', marker='.', markerfacecolor='w', ms=13, zorder=1, label='zero padding')\n",
    "    axes[0].plot([20, 21], [ x[-1], 0], 'k', marker='.', markerfacecolor='w', ms=13, zorder=1)\n",
    "\n",
    "def animate(i):\n",
    "    axes[0].set_title(f'Input sequence. Passing filter {i//21 + 1}.')\n",
    "    [p.remove() for p in reversed(axes[0].patches)];\n",
    "    p = []\n",
    "    p.append(patches.Rectangle((i%n-1.5, x[i%n]-0.4), 1, 0.8, linewidth=1, edgecolor=ec[i//21], facecolor=fc[i//21]))\n",
    "    p.append(patches.Rectangle((i%n-0.5, x[i%n]-0.4), 1, 0.8, linewidth=1, edgecolor=ec[i//21], facecolor=fc[i//21]))\n",
    "    p.append(patches.Rectangle((i%n+0.5, x[i%n]-0.4), 1, 0.8, linewidth=1, edgecolor=ec[i//21], facecolor=fc[i//21]))\n",
    "    for _ in p:\n",
    "        axes[0].add_patch(_)\n",
    "    axes[1].plot(x_out[:i%n+1,i//21], color=ec[i//21], marker='.', ms=13);\n",
    "        \n",
    "plt.close(fig)\n",
    "ani = animation.FuncAnimation(fig,\n",
    "                              animate,\n",
    "                              init_func=init,\n",
    "                              frames=63)\n",
    "ani.save('../gif/cnn/cnn_1d.gif', writer='imagemagick', fps=3, dpi=75)\n",
    "# HTML(ani.to_jshtml())"
   ]
  },
  {
   "cell_type": "markdown",
   "metadata": {},
   "source": [
    "#### View animations"
   ]
  },
  {
   "cell_type": "code",
   "execution_count": 9,
   "metadata": {},
   "outputs": [
    {
     "data": {
      "text/html": [
       "<img src=\"../gif/cnn/cnn_1d.gif\"/>"
      ],
      "text/plain": [
       "<IPython.core.display.Image object>"
      ]
     },
     "execution_count": 9,
     "metadata": {},
     "output_type": "execute_result"
    }
   ],
   "source": [
    "Image(url='../gif/cnn/cnn_1d.gif')"
   ]
  }
 ],
 "metadata": {
  "kernelspec": {
   "display_name": "Python [conda env:tf]",
   "language": "python",
   "name": "conda-env-tf-py"
  },
  "language_info": {
   "codemirror_mode": {
    "name": "ipython",
    "version": 3
   },
   "file_extension": ".py",
   "mimetype": "text/x-python",
   "name": "python",
   "nbconvert_exporter": "python",
   "pygments_lexer": "ipython3",
   "version": "3.6.10"
  },
  "toc": {
   "base_numbering": 1,
   "nav_menu": {},
   "number_sections": true,
   "sideBar": true,
   "skip_h1_title": true,
   "title_cell": "Table of Contents",
   "title_sidebar": "Contents",
   "toc_cell": false,
   "toc_position": {},
   "toc_section_display": true,
   "toc_window_display": true
  }
 },
 "nbformat": 4,
 "nbformat_minor": 2
}
