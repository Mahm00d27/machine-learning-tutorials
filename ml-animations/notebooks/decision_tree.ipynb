{
 "cells": [
  {
   "cell_type": "markdown",
   "metadata": {},
   "source": [
    "#### Imports"
   ]
  },
  {
   "cell_type": "code",
   "execution_count": 14,
   "metadata": {},
   "outputs": [],
   "source": [
    "import numpy as np\n",
    "import matplotlib.pyplot as plt\n",
    "import matplotlib.animation as animation\n",
    "from IPython.display import HTML, Image\n",
    "plt.style.use('ggplot')\n",
    "params = {'legend.fontsize': '18',\n",
    "          'axes.labelsize': '20',\n",
    "          'axes.labelweight': 'bold',\n",
    "          'axes.titlesize':'20',\n",
    "          'xtick.labelsize':'18',\n",
    "          'ytick.labelsize':'18'}\n",
    "plt.rcParams.update(params)"
   ]
  },
  {
   "cell_type": "markdown",
   "metadata": {},
   "source": [
    "#### Functions"
   ]
  },
  {
   "cell_type": "code",
   "execution_count": 15,
   "metadata": {},
   "outputs": [],
   "source": [
    "def gini(*args):\n",
    "    \"\"\"\n",
    "    Calculates the gini impurity for binary class data.\n",
    "\n",
    "    Parameters\n",
    "    ----------\n",
    "    *args : int\n",
    "        Number of examples in class i\n",
    "\n",
    "    Returns\n",
    "    -------\n",
    "    float\n",
    "        The gini impurity\n",
    "    \"\"\"\n",
    "    n = sum(args)  # total examples\n",
    "    gini = 0\n",
    "    for c in args:\n",
    "        gini += (c / n) * (1 - (c / n))\n",
    "    return gini\n",
    "\n",
    "\n",
    "def split(x, y, splits):\n",
    "    \"\"\"\n",
    "    Calculates the gini impurity for binary class data.\n",
    "\n",
    "    Parameters\n",
    "    ----------\n",
    "    x : int\n",
    "        Feature values\n",
    "    y : int\n",
    "        Corresponding target values\n",
    "    splits : int\n",
    "        Vector of splits to calculate gini criterion for\n",
    "\n",
    "    Returns\n",
    "    -------\n",
    "    list\n",
    "        List of gini impurity for each split\n",
    "    \"\"\"\n",
    "    gini_splits = []\n",
    "    for i in splits:\n",
    "        mask = x < i\n",
    "        gini_L = gini(sum(y[mask] == 0),\n",
    "                      sum(y[mask] == 1))\n",
    "        p_L = sum(mask) / len(mask)\n",
    "        gini_R = gini(sum(y[~mask] == 0),\n",
    "                      sum(y[~mask] == 1))\n",
    "        p_R = sum(~mask) / len(mask)\n",
    "        gini_splits.append(gini_L * p_L + gini_R * p_R)\n",
    "        \n",
    "    return gini_splits\n",
    "\n",
    "\n",
    "def mk_fig():\n",
    "    \"\"\"\n",
    "    Convenience function to plot figure canvas\n",
    "\n",
    "    Returns\n",
    "    -------\n",
    "    fig, axes\n",
    "        Figure and axes objects\n",
    "    \"\"\"\n",
    "    fig, axes = plt.subplots(1, 2, figsize=(14, 7))\n",
    "    axes[0].set_xlim(-1, 11)\n",
    "    axes[0].set_ylim(-1, 11)\n",
    "    axes[0].set_xlabel('X1')\n",
    "    axes[0].set_ylabel('X2')\n",
    "    axes[0].xaxis.label.set_color('#988ED5')\n",
    "    axes[0].yaxis.label.set_color('#E8A2A5')\n",
    "    axes[1].set_xlim(-1, 11)\n",
    "    axes[1].set_ylim(0, 1)\n",
    "    axes[1].set_xlabel('Feature Value')\n",
    "    axes[1].set_ylabel('Gini Impurity')\n",
    "    \n",
    "    return fig, axes"
   ]
  },
  {
   "cell_type": "markdown",
   "metadata": {},
   "source": [
    "#### Data"
   ]
  },
  {
   "cell_type": "code",
   "execution_count": 16,
   "metadata": {},
   "outputs": [],
   "source": [
    "np.random.seed(3)\n",
    "x1 = np.random.randint(0, 10, 10)\n",
    "x2 = np.random.randint(0, 10, 10)\n",
    "y = np.random.randint(0, 2, 10)"
   ]
  },
  {
   "cell_type": "markdown",
   "metadata": {},
   "source": [
    "#### Splits"
   ]
  },
  {
   "cell_type": "code",
   "execution_count": 17,
   "metadata": {},
   "outputs": [],
   "source": [
    "x1_unique = np.unique(x1)\n",
    "x1_splits = x1_unique[:-1] + np.diff(x1_unique) / 2\n",
    "x1_gini = split(x1, y, x1_splits)\n",
    "\n",
    "x2_unique = np.unique(x2)\n",
    "x2_splits = x2_unique[:-1] + np.diff(x2_unique) / 2\n",
    "x2_gini = split(x2, y, x2_splits)"
   ]
  },
  {
   "cell_type": "markdown",
   "metadata": {},
   "source": [
    "#### Create and save animations"
   ]
  },
  {
   "cell_type": "markdown",
   "metadata": {},
   "source": [
    "##### First split"
   ]
  },
  {
   "cell_type": "code",
   "execution_count": 18,
   "metadata": {},
   "outputs": [],
   "source": [
    "fig, axes = mk_fig()\n",
    "mask = y == 0\n",
    "j = len(x1_splits)\n",
    "f = len(x1_splits) + len(x2_splits) + 1\n",
    "\n",
    "def init():\n",
    "    axes[0].scatter(x1[mask], x2[mask], s=100, c='#E24A33', label='Class 0')\n",
    "    axes[0].scatter(x1[~mask], x2[~mask], s=100, c='#348ABD', label='Class 1')\n",
    "    axes[0].legend(facecolor='#F0F0F0', framealpha=1)\n",
    "    axes[1].plot(-1, -1, c='#988ED5', label='X1 splits')  # legend place-holders\n",
    "    axes[1].plot(-1, -1, c='#E8A2A5', label='X2 splits')\n",
    "    axes[1].legend(facecolor='#F0F0F0', framealpha=1)\n",
    "\n",
    "def animate(i):\n",
    "    if i <= j:  # plot x1 splits\n",
    "        axes[0].vlines(x1_splits[:i], -1, 11, '#988ED5')\n",
    "        axes[1].plot(x1_splits[:i], x1_gini[:i], '#988ED5', marker='o', ms=9)\n",
    "    elif i < f:  # plot x2 splits\n",
    "        axes[0].hlines(x2_splits[:(i-j)], -1, 11, '#E8A2A5')\n",
    "        axes[1].plot(x2_splits[:(i-j)], x2_gini[:(i-j)], '#E8A2A5', marker='o', ms=9)\n",
    "    else:  # highlight optimum split\n",
    "        if min(x1_gini) <= min(x2_gini):\n",
    "            k = np.argmin(x1_gini)\n",
    "            axes[0].vlines(x1_splits[k], -1, 11, 'k', lw=3)\n",
    "            axes[1].plot(x1_splits[k], x1_gini[k], 'o', mec='k', mfc='None', mew=3, ms=20)\n",
    "        else:\n",
    "            k = np.argmin(x1_gini)\n",
    "            axes[1].plot(x1_splits[k], x1_gini[k], 'o', mec='k', mfc=\"None\")\n",
    "            axes[0].vlines(x1_splits[k], -1, 11, 'k', lw=2)\n",
    "            \n",
    "plt.close(fig)\n",
    "ani = animation.FuncAnimation(fig,\n",
    "                              animate,\n",
    "                              init_func=init,\n",
    "                              frames=f + 1,\n",
    "                              interval=600)\n",
    "ani.save('../gif/decision_tree/decision_tree_1.gif', writer='imagemagick', fps=1, dpi=150)\n",
    "# HTML(ani.to_jshtml())"
   ]
  },
  {
   "cell_type": "markdown",
   "metadata": {},
   "source": [
    "##### Second split"
   ]
  },
  {
   "cell_type": "code",
   "execution_count": 19,
   "metadata": {},
   "outputs": [],
   "source": [
    "split_1 = 4\n",
    "mask_1 = x1 > split_1"
   ]
  },
  {
   "cell_type": "code",
   "execution_count": 20,
   "metadata": {},
   "outputs": [],
   "source": [
    "x1_unique = np.unique(x1[mask_1])\n",
    "x1_splits = x1_unique[:-1] + np.diff(x1_unique) / 2\n",
    "x1_gini = split(x1[mask_1], y[mask_1], x1_splits)\n",
    "\n",
    "x2_unique = np.unique(x2[mask_1])\n",
    "x2_splits = x2_unique[:-1] + np.diff(x2_unique) / 2\n",
    "x2_gini = split(x2[mask_1], y[mask_1], x2_splits)"
   ]
  },
  {
   "cell_type": "code",
   "execution_count": 21,
   "metadata": {},
   "outputs": [],
   "source": [
    "fig, axes = mk_fig()\n",
    "mask = y == 0\n",
    "j = len(x1_splits)\n",
    "f = len(x1_splits) + len(x2_splits) + 1\n",
    "\n",
    "def init():\n",
    "    axes[0].scatter(x1[mask], x2[mask], s=100, c='#E24A33', label='Class 0')\n",
    "    axes[0].scatter(x1[~mask], x2[~mask], s=100, c='#348ABD', label='Class 1')\n",
    "    axes[0].legend(facecolor='#F0F0F0', framealpha=1)\n",
    "    axes[1].plot(-1, -1, c='#988ED5', label='X1 splits')  # legend place-holders\n",
    "    axes[1].plot(-1, -1, c='#E8A2A5', label='X2 splits')\n",
    "    axes[1].legend(facecolor='#F0F0F0', framealpha=1)\n",
    "    axes[0].vlines(split_1, -1, 11, 'k', lw=3)\n",
    "\n",
    "def animate(i):\n",
    "    if i <= j:  # plot x1 splits\n",
    "        axes[0].vlines(x1_splits[:i], -1, 11, '#988ED5')\n",
    "        axes[1].plot(x1_splits[:i], x1_gini[:i], '#988ED5', marker='o', ms=9)\n",
    "    elif i < f:  # plot x2 splits\n",
    "        axes[0].hlines(x2_splits[:(i-j)], split_1, 11, '#E8A2A5')\n",
    "        axes[1].plot(x2_splits[:(i-j)], x2_gini[:(i-j)], '#E8A2A5', marker='o', ms=9)\n",
    "    else:  # highlight optimum split\n",
    "        if min(x1_gini) <= min(x2_gini):\n",
    "            k = np.argmin(x1_gini)\n",
    "            axes[0].vlines(x1_splits[k], -1, 11, 'k', lw=3)\n",
    "            axes[1].plot(x1_splits[k], x1_gini[k], 'o', mec='k', mfc='None', mew=3, ms=20)\n",
    "        else:\n",
    "            k = np.argmin(x2_gini)\n",
    "            axes[0].hlines(x2_splits[k], split_1, 11, 'k', lw=3)\n",
    "            axes[1].plot(x2_splits[k], x2_gini[k], 'o', mec='k', mfc='None', mew=3, ms=20)\n",
    "            \n",
    "plt.close(fig)\n",
    "ani = animation.FuncAnimation(fig,\n",
    "                              animate,\n",
    "                              init_func=init,\n",
    "                              frames=f + 1,\n",
    "                              interval=600)\n",
    "ani.save('../gif/decision_tree/decision_tree_2.gif', writer='imagemagick', fps=1, dpi=150)\n",
    "# HTML(ani.to_jshtml())"
   ]
  },
  {
   "cell_type": "markdown",
   "metadata": {},
   "source": [
    "##### Third split"
   ]
  },
  {
   "cell_type": "code",
   "execution_count": 22,
   "metadata": {},
   "outputs": [],
   "source": [
    "split_2 = 4.5\n",
    "mask_2 = (x1 > split_1) & (x2 > split_2)"
   ]
  },
  {
   "cell_type": "code",
   "execution_count": 23,
   "metadata": {},
   "outputs": [],
   "source": [
    "x1_unique = np.unique(x1[mask_2])\n",
    "x1_splits = x1_unique[:-1] + np.diff(x1_unique) / 2\n",
    "x1_gini = split(x1[mask_2], y[mask_2], x1_splits)\n",
    "\n",
    "x2_unique = np.unique(x2[mask_2])\n",
    "x2_splits = x2_unique[:-1] + np.diff(x2_unique) / 2\n",
    "x2_gini = split(x2[mask_2], y[mask_2], x2_splits)"
   ]
  },
  {
   "cell_type": "code",
   "execution_count": 24,
   "metadata": {},
   "outputs": [],
   "source": [
    "fig, axes = mk_fig()\n",
    "mask = y == 0\n",
    "j = len(x1_splits)\n",
    "f = len(x1_splits) + len(x2_splits) + 1\n",
    "\n",
    "def init():\n",
    "    axes[0].scatter(x1[mask], x2[mask], s=100, c='#E24A33', label='Class 0')\n",
    "    axes[0].scatter(x1[~mask], x2[~mask], s=100, c='#348ABD', label='Class 1')\n",
    "    axes[0].legend(facecolor='#F0F0F0', framealpha=1)\n",
    "    axes[1].plot(-1, -1, c='#988ED5', label='X1 splits')  # legend place-holders\n",
    "    axes[1].plot(-1, -1, c='#E8A2A5', label='X2 splits')\n",
    "    axes[1].legend(facecolor='#F0F0F0', framealpha=1)\n",
    "    axes[0].vlines(split_1, -1, 11, 'k', lw=3)\n",
    "    axes[0].hlines(split_2, split_1, 11, 'k', lw=3)\n",
    "\n",
    "def animate(i):\n",
    "    if i <= j:  # plot x1 splits\n",
    "        axes[0].vlines(x1_splits[:i], split_2, 11, '#988ED5')\n",
    "        axes[1].plot(x1_splits[:i], x1_gini[:i], '#988ED5', marker='o', ms=9)\n",
    "    elif i < f:  # plot x2 splits\n",
    "        axes[0].hlines(x2_splits[:(i-j)], split_1, 11, '#E8A2A5')\n",
    "        axes[1].plot(x2_splits[:(i-j)], x2_gini[:(i-j)], '#E8A2A5', marker='o', ms=9)\n",
    "    else:  # highlight optimum split\n",
    "        if min(x1_gini) <= min(x2_gini):\n",
    "            k = np.argmin(x1_gini)\n",
    "            axes[0].vlines(x1_splits[k], split_2, 11, 'k', lw=3)\n",
    "            axes[1].plot(x1_splits[k], x1_gini[k], 'o', mec='k', mfc='None', mew=3, ms=20)\n",
    "        else:\n",
    "            k = np.argmin(x2_gini)\n",
    "            axes[0].hlines(x2_splits[k], split_1, 11, 'k', lw=3)\n",
    "            axes[1].plot(x2_splits[k], x2_gini[k], 'o', mec='k', mfc='None', mew=3, ms=20)\n",
    "            \n",
    "plt.close(fig)\n",
    "ani = animation.FuncAnimation(fig,\n",
    "                              animate,\n",
    "                              init_func=init,\n",
    "                              frames=f + 1,\n",
    "                              interval=600)\n",
    "ani.save('../gif/decision_tree/decision_tree_3.gif', writer='imagemagick', fps=1, dpi=150)\n",
    "# HTML(ani.to_jshtml())"
   ]
  },
  {
   "cell_type": "markdown",
   "metadata": {},
   "source": [
    "##### Final tree"
   ]
  },
  {
   "cell_type": "code",
   "execution_count": 25,
   "metadata": {},
   "outputs": [],
   "source": [
    "split_3 = 6.5"
   ]
  },
  {
   "cell_type": "code",
   "execution_count": 26,
   "metadata": {},
   "outputs": [],
   "source": [
    "fig, axes = mk_fig()\n",
    "mask = y == 0\n",
    "j = len(x1_splits)\n",
    "f = len(x1_splits) + len(x2_splits) + 1\n",
    "\n",
    "def init():\n",
    "    axes[0].scatter(x1[mask], x2[mask], s=100, c='#E24A33', label='Class 0')\n",
    "    axes[0].scatter(x1[~mask], x2[~mask], s=100, c='#348ABD', label='Class 1')\n",
    "    axes[0].legend(facecolor='#F0F0F0', framealpha=1)\n",
    "    axes[1].plot(-1, -1, c='#988ED5', label='X1 splits')  # legend place-holders\n",
    "    axes[1].plot(-1, -1, c='#E8A2A5', label='X2 splits')\n",
    "    axes[1].legend(facecolor='#F0F0F0', framealpha=1)\n",
    "    axes[0].vlines(split_1, -1, 11, 'k', lw=3)\n",
    "    axes[0].hlines(split_2, split_1, 11, 'k', lw=3)\n",
    "    axes[0].hlines(split_3, split_1, 11, 'k', lw=3)\n",
    "\n",
    "def animate(i):\n",
    "    return\n",
    "            \n",
    "plt.close(fig)\n",
    "ani = animation.FuncAnimation(fig,\n",
    "                              animate,\n",
    "                              init_func=init,\n",
    "                              frames=1,\n",
    "                              interval=600)\n",
    "ani.save('../gif/decision_tree/decision_tree_4.gif', writer='imagemagick', fps=1, dpi=150)\n",
    "# HTML(ani.to_jshtml())"
   ]
  },
  {
   "cell_type": "markdown",
   "metadata": {},
   "source": [
    "#### View animations"
   ]
  },
  {
   "cell_type": "code",
   "execution_count": 27,
   "metadata": {},
   "outputs": [
    {
     "data": {
      "text/html": [
       "<img src=\"../gif/decision_tree/decision_tree_1.gif\"/>"
      ],
      "text/plain": [
       "<IPython.core.display.Image object>"
      ]
     },
     "execution_count": 27,
     "metadata": {},
     "output_type": "execute_result"
    }
   ],
   "source": [
    "Image(url='../gif/decision_tree/decision_tree_1.gif')"
   ]
  },
  {
   "cell_type": "code",
   "execution_count": 28,
   "metadata": {},
   "outputs": [
    {
     "data": {
      "text/html": [
       "<img src=\"../gif/decision_tree/decision_tree_2.gif\"/>"
      ],
      "text/plain": [
       "<IPython.core.display.Image object>"
      ]
     },
     "execution_count": 28,
     "metadata": {},
     "output_type": "execute_result"
    }
   ],
   "source": [
    "Image(url='../gif/decision_tree/decision_tree_2.gif')"
   ]
  },
  {
   "cell_type": "code",
   "execution_count": 29,
   "metadata": {},
   "outputs": [
    {
     "data": {
      "text/html": [
       "<img src=\"../gif/decision_tree/decision_tree_3.gif\"/>"
      ],
      "text/plain": [
       "<IPython.core.display.Image object>"
      ]
     },
     "execution_count": 29,
     "metadata": {},
     "output_type": "execute_result"
    }
   ],
   "source": [
    "Image(url='../gif/decision_tree/decision_tree_3.gif')"
   ]
  },
  {
   "cell_type": "code",
   "execution_count": 30,
   "metadata": {},
   "outputs": [
    {
     "data": {
      "text/html": [
       "<img src=\"../gif/decision_tree/decision_tree_4.gif\"/>"
      ],
      "text/plain": [
       "<IPython.core.display.Image object>"
      ]
     },
     "execution_count": 30,
     "metadata": {},
     "output_type": "execute_result"
    }
   ],
   "source": [
    "Image(url='../gif/decision_tree/decision_tree_4.gif')"
   ]
  }
 ],
 "metadata": {
  "kernelspec": {
   "display_name": "Python 3",
   "language": "python",
   "name": "python3"
  },
  "language_info": {
   "codemirror_mode": {
    "name": "ipython",
    "version": 3
   },
   "file_extension": ".py",
   "mimetype": "text/x-python",
   "name": "python",
   "nbconvert_exporter": "python",
   "pygments_lexer": "ipython3",
   "version": "3.7.4"
  }
 },
 "nbformat": 4,
 "nbformat_minor": 2
}
