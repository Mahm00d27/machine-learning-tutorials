{
 "cells": [
  {
   "cell_type": "markdown",
   "metadata": {},
   "source": [
    "#### Imports"
   ]
  },
  {
   "cell_type": "code",
   "execution_count": 33,
   "metadata": {},
   "outputs": [],
   "source": [
    "import numpy as np\n",
    "from scipy.optimize import minimize\n",
    "import matplotlib.pyplot as plt\n",
    "import matplotlib.animation as animation\n",
    "from IPython.display import HTML, Image\n",
    "plt.style.use('ggplot')\n",
    "params = {'legend.fontsize': '18',\n",
    "          'axes.labelsize': '20',\n",
    "          'axes.labelweight': 'bold',\n",
    "          'axes.titlesize':'20',\n",
    "          'xtick.labelsize':'18',\n",
    "          'ytick.labelsize':'18'}\n",
    "plt.rcParams.update(params)"
   ]
  },
  {
   "cell_type": "markdown",
   "metadata": {},
   "source": [
    "#### Functions"
   ]
  },
  {
   "cell_type": "code",
   "execution_count": 36,
   "metadata": {},
   "outputs": [],
   "source": [
    "def loss_lr(w, X, y):\n",
    "    return np.sum(np.log(1 + np.exp(-y*(X@w))))\n",
    "\n",
    "def loss_lr_grad(w, X, y):\n",
    "    return -X.T @ (y/(1+np.exp(y*(X@w))))\n",
    "\n",
    "def mk_fig():\n",
    "    \"\"\"\n",
    "    Convenience function to plot figure canvas\n",
    "\n",
    "    Returns\n",
    "    -------\n",
    "    fig, axes\n",
    "        Figure and axes objects\n",
    "    \"\"\"\n",
    "    fig, axes = plt.subplots(1, 1, figsize=(7, 7))\n",
    "    axes.set_xlim(-1, 21)\n",
    "    axes.set_ylim(-1.5, 1.5)\n",
    "    axes.set_xlabel('x')\n",
    "    axes.set_ylabel('y')\n",
    "\n",
    "    return fig, axes"
   ]
  },
  {
   "cell_type": "markdown",
   "metadata": {},
   "source": [
    "#### Data"
   ]
  },
  {
   "cell_type": "code",
   "execution_count": 113,
   "metadata": {},
   "outputs": [],
   "source": [
    "np.random.seed(1)\n",
    "x = np.concatenate((np.random.randint(0, 12, 10),\n",
    "                    np.random.randint(8, 20, 10))\n",
    "                  )\n",
    "y = np.concatenate((np.ones((10,)) * -1,\n",
    "                    np.ones(10,))\n",
    "                  )"
   ]
  },
  {
   "cell_type": "code",
   "execution_count": 114,
   "metadata": {},
   "outputs": [
    {
     "data": {
      "text/plain": [
       "[<matplotlib.lines.Line2D at 0x1a2064f110>]"
      ]
     },
     "execution_count": 114,
     "metadata": {},
     "output_type": "execute_result"
    },
    {
     "data": {
      "image/png": "[encoded data removed]",
      "text/plain": [
       "<Figure size 504x504 with 1 Axes>"
      ]
     },
     "metadata": {},
     "output_type": "display_data"
    }
   ],
   "source": [
    "fig, axes = mk_fig()\n",
    "mask = y == -1\n",
    "colors = ['#E24A33', '#348ABD']\n",
    "\n",
    "axes.scatter(x[mask], y[mask], s=100, label='Class 0', zorder=2)\n",
    "axes.scatter(x[~mask], y[~mask], s=100, label='Class 1', zorder=2)\n",
    "\n",
    "w0 = np.array([0])\n",
    "w = minimize(lambda w: loss_lr(w, x[:, None], y), w0, jac=lambda w: loss_lr_grad(w, x[:, None], y)).x \n",
    "p = 1 / (1+np.exp(-w*x))\n",
    "axes.plot(x, p, '-k')"
   ]
  },
  {
   "cell_type": "code",
   "execution_count": 115,
   "metadata": {},
   "outputs": [],
   "source": [
    "from sklearn.linear_model import LogisticRegression"
   ]
  },
  {
   "cell_type": "code",
   "execution_count": 120,
   "metadata": {},
   "outputs": [],
   "source": [
    "lr = LogisticRegression(C=1e8)\n",
    "lr.fit(x[:, None], y);"
   ]
  },
  {
   "cell_type": "code",
   "execution_count": 121,
   "metadata": {},
   "outputs": [
    {
     "data": {
      "text/plain": [
       "array([[0.9953184]])"
      ]
     },
     "execution_count": 121,
     "metadata": {},
     "output_type": "execute_result"
    }
   ],
   "source": [
    "lr.coef_"
   ]
  },
  {
   "cell_type": "code",
   "execution_count": 122,
   "metadata": {},
   "outputs": [
    {
     "data": {
      "text/plain": [
       "array([-1.,  1., -1., -1.,  1., -1., -1., -1., -1., -1.,  1.,  1., -1.,\n",
       "        1.,  1., -1.,  1.,  1.,  1., -1.])"
      ]
     },
     "execution_count": 122,
     "metadata": {},
     "output_type": "execute_result"
    }
   ],
   "source": [
    "lr.predict(x[:, None])"
   ]
  },
  {
   "cell_type": "code",
   "execution_count": 123,
   "metadata": {},
   "outputs": [
    {
     "data": {
      "text/plain": [
       "array([[9.93534766e-01, 6.46523442e-03],\n",
       "       [2.81490423e-01, 7.18509577e-01],\n",
       "       [8.85833853e-01, 1.14166147e-01],\n",
       "       [7.41457200e-01, 2.58542800e-01],\n",
       "       [2.81490423e-01, 7.18509577e-01],\n",
       "       [9.93534766e-01, 6.46523442e-03],\n",
       "       [9.99955118e-01, 4.48823176e-05],\n",
       "       [9.99955118e-01, 4.48823176e-05],\n",
       "       [9.99878576e-01, 1.21423660e-04],\n",
       "       [9.54531158e-01, 4.54688420e-02],\n",
       "       [1.93972562e-02, 9.80602744e-01],\n",
       "       [9.97768505e-04, 9.99002231e-01],\n",
       "       [5.14555334e-01, 4.85444666e-01],\n",
       "       [1.26485284e-01, 8.73514716e-01],\n",
       "       [5.08002779e-02, 9.49199722e-01],\n",
       "       [5.14555334e-01, 4.85444666e-01],\n",
       "       [1.26485284e-01, 8.73514716e-01],\n",
       "       [1.36421087e-04, 9.99863579e-01],\n",
       "       [3.69013075e-04, 9.99630987e-01],\n",
       "       [5.14555334e-01, 4.85444666e-01]])"
      ]
     },
     "execution_count": 123,
     "metadata": {},
     "output_type": "execute_result"
    }
   ],
   "source": [
    "lr.predict_proba(x[:, None])"
   ]
  },
  {
   "cell_type": "markdown",
   "metadata": {},
   "source": [
    "#### Create and save animations"
   ]
  },
  {
   "cell_type": "code",
   "execution_count": 4,
   "metadata": {},
   "outputs": [],
   "source": [
    "fig, axes = mk_fig()\n",
    "mask = y == 0\n",
    "colors = ['#E24A33', '#348ABD']\n",
    "\n",
    "def init():\n",
    "    axes.scatter(X[mask, 0], X[mask, 1], s=100, c='#E24A33', label='Class 0', zorder=2)\n",
    "    axes.scatter(X[~mask, 0], X[~mask, 1], s=100, c='#348ABD', label='Class 1', zorder=2)\n",
    "    axes.scatter(xq[0], xq[1], s=200, facecolor='None', edgecolor='k', lw=2, label='Unknown', zorder=2)\n",
    "    axes.legend(facecolor='#F0F0F0', framealpha=1)\n",
    "\n",
    "def animate(i):\n",
    "    if i == 0:\n",
    "        axes.scatter(xq[0], xq[1], s=200, facecolor='None', edgecolor='k', lw=2, label='Unknown', zorder=2)\n",
    "    if i == 1:\n",
    "        k = closest_node(xq, X, i)\n",
    "        axes.plot([xq[0], X[k,0]],\n",
    "                  [xq[1], X[k,1]],\n",
    "                  'k-', zorder=1)\n",
    "        axes.scatter(xq[0], xq[1]+0.01, s=200, facecolor=colors[y[k[0]]], edgecolor='k', lw=2, zorder=2)\n",
    "    elif i % 2 == 1:\n",
    "        k = closest_node(xq, X, i)\n",
    "        axes.plot([np.repeat(xq[0], 2), X[k[-2:],0]],\n",
    "                  [np.repeat(xq[1], 2), X[k[-2:],1]],\n",
    "                  'k-', zorder=1)\n",
    "        if sum(y[k] == 0) > sum(y[k] == 1):\n",
    "            axes.scatter(xq[0], xq[1]+0.01, s=200, facecolor=colors[0], edgecolor='k', lw=2, zorder=2)\n",
    "        elif sum(y[k] == 1) > sum(y[k] == 0):\n",
    "            axes.scatter(xq[0], xq[1]+0.01, s=200, facecolor=colors[1], edgecolor='k', lw=2, zorder=2)\n",
    "        else:  # if equal counts, set to closest point's color\n",
    "            axes.scatter(xq[0], xq[1]+0.01, s=200, facecolor=colors[y[k[0]]], edgecolor='k', lw=2, zorder=2)\n",
    "            \n",
    "plt.close(fig)\n",
    "ani = animation.FuncAnimation(fig,\n",
    "                              animate,\n",
    "                              init_func=init,\n",
    "                              frames=10,\n",
    "                              interval=600)\n",
    "ani.save('../gif/knn/knn.gif', writer='imagemagick', fps=1, dpi=75)\n",
    "# HTML(ani.to_jshtml())"
   ]
  },
  {
   "cell_type": "markdown",
   "metadata": {},
   "source": [
    "#### View animations"
   ]
  },
  {
   "cell_type": "code",
   "execution_count": null,
   "metadata": {},
   "outputs": [],
   "source": [
    "Image(url='../gif/knn/knn.gif')"
   ]
  }
 ],
 "metadata": {
  "kernelspec": {
   "display_name": "Python 3",
   "language": "python",
   "name": "python3"
  },
  "language_info": {
   "codemirror_mode": {
    "name": "ipython",
    "version": 3
   },
   "file_extension": ".py",
   "mimetype": "text/x-python",
   "name": "python",
   "nbconvert_exporter": "python",
   "pygments_lexer": "ipython3",
   "version": "3.7.4"
  }
 },
 "nbformat": 4,
 "nbformat_minor": 2
}
